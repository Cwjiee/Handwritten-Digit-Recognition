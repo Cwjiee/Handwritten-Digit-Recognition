{
  "nbformat": 4,
  "nbformat_minor": 0,
  "metadata": {
    "colab": {
      "provenance": []
    },
    "kernelspec": {
      "name": "python3",
      "display_name": "Python 3"
    },
    "language_info": {
      "name": "python"
    }
  },
  "cells": [
    {
      "cell_type": "code",
      "source": [
        "import torch\n",
        "from torch import nn\n",
        "from torch.utils.data import DataLoader\n",
        "from torchvision import datasets\n",
        "from torchvision.transforms import ToTensor\n",
        "import torchvision.transforms.functional as TF\n",
        "from PIL import Image\n",
        "import cv2"
      ],
      "metadata": {
        "id": "5ydiHmz8d_kJ"
      },
      "execution_count": 211,
      "outputs": []
    },
    {
      "cell_type": "markdown",
      "source": [
        "## Prep Data"
      ],
      "metadata": {
        "id": "RzbVVur9k6UK"
      }
    },
    {
      "cell_type": "code",
      "source": [
        "training_data = datasets.MNIST(\n",
        "    root=\"data\",\n",
        "    train=True,\n",
        "    download=True,\n",
        "    transform=ToTensor(),\n",
        ")"
      ],
      "metadata": {
        "id": "Tv4_vfmqh7Lg"
      },
      "execution_count": 212,
      "outputs": []
    },
    {
      "cell_type": "code",
      "source": [
        "testing_data = datasets.MNIST(\n",
        "    root=\"data\",\n",
        "    train=True,\n",
        "    download=True,\n",
        "    transform=ToTensor(),\n",
        ")"
      ],
      "metadata": {
        "id": "2rImJweQiq8o"
      },
      "execution_count": 213,
      "outputs": []
    },
    {
      "cell_type": "markdown",
      "source": [
        "## Visualize Data"
      ],
      "metadata": {
        "id": "PWVgoV2ldx1R"
      }
    },
    {
      "cell_type": "code",
      "source": [
        "import matplotlib.pyplot as plt\n",
        "\n",
        "image_num = 0\n",
        "plt.imshow(training_data.data[image_num], cmap='gray')\n",
        "plt.title('%i' % training_data.targets[image_num])\n",
        "plt.show"
      ],
      "metadata": {
        "colab": {
          "base_uri": "https://localhost:8080/",
          "height": 622
        },
        "id": "KBmf53JbdzSP",
        "outputId": "a8adbd7d-2fc5-4de4-b021-1a65d48a0fdb"
      },
      "execution_count": 214,
      "outputs": [
        {
          "output_type": "execute_result",
          "data": {
            "text/plain": [
              "<function matplotlib.pyplot.show(close=None, block=None)>"
            ],
            "text/html": [
              "<div style=\"max-width:800px; border: 1px solid var(--colab-border-color);\"><style>\n",
              "      pre.function-repr-contents {\n",
              "        overflow-x: auto;\n",
              "        padding: 8px 12px;\n",
              "        max-height: 500px;\n",
              "      }\n",
              "\n",
              "      pre.function-repr-contents.function-repr-contents-collapsed {\n",
              "        cursor: pointer;\n",
              "        max-height: 100px;\n",
              "      }\n",
              "    </style>\n",
              "    <pre style=\"white-space: initial; background:\n",
              "         var(--colab-secondary-surface-color); padding: 8px 12px;\n",
              "         border-bottom: 1px solid var(--colab-border-color);\"><b>matplotlib.pyplot.show</b><br/>def show(*args, **kwargs)</pre><pre class=\"function-repr-contents function-repr-contents-collapsed\" style=\"\"><a class=\"filepath\" style=\"display:none\" href=\"#\">/usr/local/lib/python3.10/dist-packages/matplotlib/pyplot.py</a>Display all open figures.\n",
              "\n",
              "Parameters\n",
              "----------\n",
              "block : bool, optional\n",
              "    Whether to wait for all figures to be closed before returning.\n",
              "\n",
              "    If `True` block and run the GUI main loop until all figure windows\n",
              "    are closed.\n",
              "\n",
              "    If `False` ensure that all figure windows are displayed and return\n",
              "    immediately.  In this case, you are responsible for ensuring\n",
              "    that the event loop is running to have responsive figures.\n",
              "\n",
              "    Defaults to True in non-interactive mode and to False in interactive\n",
              "    mode (see `.pyplot.isinteractive`).\n",
              "\n",
              "See Also\n",
              "--------\n",
              "ion : Enable interactive mode, which shows / updates the figure after\n",
              "      every plotting command, so that calling ``show()`` is not necessary.\n",
              "ioff : Disable interactive mode.\n",
              "savefig : Save the figure to an image file instead of showing it on screen.\n",
              "\n",
              "Notes\n",
              "-----\n",
              "**Saving figures to file and showing a window at the same time**\n",
              "\n",
              "If you want an image file as well as a user interface window, use\n",
              "`.pyplot.savefig` before `.pyplot.show`. At the end of (a blocking)\n",
              "``show()`` the figure is closed and thus unregistered from pyplot. Calling\n",
              "`.pyplot.savefig` afterwards would save a new and thus empty figure. This\n",
              "limitation of command order does not apply if the show is non-blocking or\n",
              "if you keep a reference to the figure and use `.Figure.savefig`.\n",
              "\n",
              "**Auto-show in jupyter notebooks**\n",
              "\n",
              "The jupyter backends (activated via ``%matplotlib inline``,\n",
              "``%matplotlib notebook``, or ``%matplotlib widget``), call ``show()`` at\n",
              "the end of every cell by default. Thus, you usually don&#x27;t have to call it\n",
              "explicitly there.</pre>\n",
              "      <script>\n",
              "      if (google.colab.kernel.accessAllowed && google.colab.files && google.colab.files.view) {\n",
              "        for (const element of document.querySelectorAll('.filepath')) {\n",
              "          element.style.display = 'block'\n",
              "          element.onclick = (event) => {\n",
              "            event.preventDefault();\n",
              "            event.stopPropagation();\n",
              "            google.colab.files.view(element.textContent, 401);\n",
              "          };\n",
              "        }\n",
              "      }\n",
              "      for (const element of document.querySelectorAll('.function-repr-contents')) {\n",
              "        element.onclick = (event) => {\n",
              "          event.preventDefault();\n",
              "          event.stopPropagation();\n",
              "          element.classList.toggle('function-repr-contents-collapsed');\n",
              "        };\n",
              "      }\n",
              "      </script>\n",
              "      </div>"
            ]
          },
          "metadata": {},
          "execution_count": 214
        },
        {
          "output_type": "display_data",
          "data": {
            "text/plain": [
              "<Figure size 640x480 with 1 Axes>"
            ],
            "image/png": "[encoded data removed]"
          },
          "metadata": {}
        }
      ]
    },
    {
      "cell_type": "code",
      "source": [
        "batch_size = 64\n",
        "\n",
        "train_dataloader = DataLoader(training_data, batch_size=batch_size)\n",
        "test_dataloader = DataLoader(testing_data, batch_size=batch_size)\n",
        "\n",
        "for X, y in test_dataloader:\n",
        "  print(X.shape)\n",
        "  print(y.shape)\n",
        "  break"
      ],
      "metadata": {
        "colab": {
          "base_uri": "https://localhost:8080/"
        },
        "id": "UNTEE42gjE_8",
        "outputId": "04b1ecb2-c31a-4c54-e968-1ec7c4f97518"
      },
      "execution_count": 215,
      "outputs": [
        {
          "output_type": "stream",
          "name": "stdout",
          "text": [
            "torch.Size([64, 1, 28, 28])\n",
            "torch.Size([64])\n"
          ]
        }
      ]
    },
    {
      "cell_type": "markdown",
      "source": [
        "# Create Data Model"
      ],
      "metadata": {
        "id": "woruFxKunCfe"
      }
    },
    {
      "cell_type": "code",
      "source": [
        "device = (\n",
        "    \"cuda\"\n",
        "    if torch.cuda.is_available()\n",
        "    else \"mps\"\n",
        "    if torch.backends.mps.is_available()\n",
        "    else \"cpu\"\n",
        ")\n",
        "\n",
        "print(f\"Using {device} device\")\n",
        "\n",
        "class NeuralNetwork(nn.Module):\n",
        "  def __init__(self):\n",
        "    super().__init__()\n",
        "    self.flatten = nn.Flatten()\n",
        "    self.linear_relu_stack = nn.Sequential(\n",
        "        nn.Linear(28*28, 128),\n",
        "        nn.ReLU(),\n",
        "        nn.Linear(128, 64),\n",
        "        nn.ReLU(),\n",
        "        nn.Linear(64, 10),\n",
        "        nn.LogSoftmax(dim=1)\n",
        "    )\n",
        "\n",
        "  def forward(self, x):\n",
        "    x = self.flatten(x)\n",
        "    logits = self.linear_relu_stack(x)\n",
        "    return logits\n",
        "\n",
        "model = NeuralNetwork().to(device)\n",
        "print(model)"
      ],
      "metadata": {
        "colab": {
          "base_uri": "https://localhost:8080/"
        },
        "id": "r7nYigyMnLUG",
        "outputId": "716f8ad4-6b1d-4f1f-cdcf-efedbf9a8591"
      },
      "execution_count": 216,
      "outputs": [
        {
          "output_type": "stream",
          "name": "stdout",
          "text": [
            "Using cpu device\n",
            "NeuralNetwork(\n",
            "  (flatten): Flatten(start_dim=1, end_dim=-1)\n",
            "  (linear_relu_stack): Sequential(\n",
            "    (0): Linear(in_features=784, out_features=128, bias=True)\n",
            "    (1): ReLU()\n",
            "    (2): Linear(in_features=128, out_features=64, bias=True)\n",
            "    (3): ReLU()\n",
            "    (4): Linear(in_features=64, out_features=10, bias=True)\n",
            "    (5): LogSoftmax(dim=1)\n",
            "  )\n",
            ")\n"
          ]
        }
      ]
    },
    {
      "cell_type": "markdown",
      "source": [
        "## Choose Loss function and Optimizer"
      ],
      "metadata": {
        "id": "2QG7K0XarxQE"
      }
    },
    {
      "cell_type": "code",
      "source": [
        "loss_fn = nn.NLLLoss()\n",
        "optimizer = torch.optim.SGD(model.parameters(), lr=1e-3)"
      ],
      "metadata": {
        "id": "02loRzOyr5wo"
      },
      "execution_count": 217,
      "outputs": []
    },
    {
      "cell_type": "markdown",
      "source": [
        "## Train Steps"
      ],
      "metadata": {
        "id": "RFzHNwLkajnc"
      }
    },
    {
      "cell_type": "code",
      "source": [
        "def train(dataloader, model, loss_fn, optimizer):\n",
        "    size = len(dataloader.dataset)\n",
        "    for batch, (X, y) in enumerate(dataloader):\n",
        "        X, y = X.to(device), y.to(device)\n",
        "\n",
        "        # Compute prediction error\n",
        "        pred = model(X)\n",
        "        loss = loss_fn(pred, y)\n",
        "\n",
        "        # Backpropagation\n",
        "        loss.backward()\n",
        "        optimizer.step()\n",
        "        optimizer.zero_grad()\n",
        "\n",
        "        if batch % 100 == 0:\n",
        "            loss, current = loss.item(), (batch + 1) * len(X)\n",
        "            print(f\"loss: {loss:>7f}  [{current:>5d}/{size:>5d}]\")\n"
      ],
      "metadata": {
        "id": "ceX1vAidsUmQ"
      },
      "execution_count": 218,
      "outputs": []
    },
    {
      "cell_type": "code",
      "source": [
        "def test(dataloader, model, loss_fn):\n",
        "    size = len(dataloader.dataset)\n",
        "    num_batches = len(dataloader)\n",
        "    test_loss, correct = 0, 0\n",
        "    with torch.no_grad():\n",
        "        for X, y in dataloader:\n",
        "            X, y = X.to(device), y.to(device)\n",
        "            pred = model(X)\n",
        "            test_loss += loss_fn(pred, y).item()\n",
        "            correct += (pred.argmax(1) == y).type(torch.float).sum().item()\n",
        "    test_loss /= num_batches\n",
        "    correct /= size\n",
        "    print(f\"Test Error: \\n Accuracy: {(100*correct):>0.1f}%, Avg loss: {test_loss:>8f} \\n\")"
      ],
      "metadata": {
        "id": "rJahVl0Xsqpj"
      },
      "execution_count": 219,
      "outputs": []
    },
    {
      "cell_type": "markdown",
      "source": [
        "## Train Model"
      ],
      "metadata": {
        "id": "Wmev-k95anH6"
      }
    },
    {
      "cell_type": "code",
      "source": [
        "epochs = 15\n",
        "for t in range(epochs):\n",
        "    print(f\"Epoch {t+1}\\n-------------------------------\")\n",
        "    train(train_dataloader, model, loss_fn, optimizer)\n",
        "    test(test_dataloader, model, loss_fn)\n",
        "print(\"Done!\")"
      ],
      "metadata": {
        "colab": {
          "base_uri": "https://localhost:8080/"
        },
        "id": "ZS4nNabFstZR",
        "outputId": "1bd3050d-bbea-4919-d541-cca275ff9695"
      },
      "execution_count": 220,
      "outputs": [
        {
          "output_type": "stream",
          "name": "stdout",
          "text": [
            "Epoch 1\n",
            "-------------------------------\n",
            "loss: 2.316254  [   64/60000]\n",
            "loss: 2.308779  [ 6464/60000]\n",
            "loss: 2.314080  [12864/60000]\n",
            "loss: 2.277439  [19264/60000]\n",
            "loss: 2.290716  [25664/60000]\n",
            "loss: 2.291755  [32064/60000]\n",
            "loss: 2.283351  [38464/60000]\n",
            "loss: 2.298866  [44864/60000]\n",
            "loss: 2.270012  [51264/60000]\n",
            "loss: 2.271903  [57664/60000]\n",
            "Test Error: \n",
            " Accuracy: 21.8%, Avg loss: 2.276224 \n",
            "\n",
            "Epoch 2\n",
            "-------------------------------\n",
            "loss: 2.284918  [   64/60000]\n",
            "loss: 2.277196  [ 6464/60000]\n",
            "loss: 2.278577  [12864/60000]\n",
            "loss: 2.238727  [19264/60000]\n",
            "loss: 2.254731  [25664/60000]\n",
            "loss: 2.253708  [32064/60000]\n",
            "loss: 2.237396  [38464/60000]\n",
            "loss: 2.269799  [44864/60000]\n",
            "loss: 2.230149  [51264/60000]\n",
            "loss: 2.218113  [57664/60000]\n",
            "Test Error: \n",
            " Accuracy: 33.5%, Avg loss: 2.230991 \n",
            "\n",
            "Epoch 3\n",
            "-------------------------------\n",
            "loss: 2.243886  [   64/60000]\n",
            "loss: 2.228887  [ 6464/60000]\n",
            "loss: 2.224004  [12864/60000]\n",
            "loss: 2.179497  [19264/60000]\n",
            "loss: 2.199622  [25664/60000]\n",
            "loss: 2.193098  [32064/60000]\n",
            "loss: 2.165419  [38464/60000]\n",
            "loss: 2.221496  [44864/60000]\n",
            "loss: 2.164798  [51264/60000]\n",
            "loss: 2.132386  [57664/60000]\n",
            "Test Error: \n",
            " Accuracy: 46.8%, Avg loss: 2.156054 \n",
            "\n",
            "Epoch 4\n",
            "-------------------------------\n",
            "loss: 2.174851  [   64/60000]\n",
            "loss: 2.147337  [ 6464/60000]\n",
            "loss: 2.138764  [12864/60000]\n",
            "loss: 2.081256  [19264/60000]\n",
            "loss: 2.108467  [25664/60000]\n",
            "loss: 2.094112  [32064/60000]\n",
            "loss: 2.047829  [38464/60000]\n",
            "loss: 2.136476  [44864/60000]\n",
            "loss: 2.056383  [51264/60000]\n",
            "loss: 1.995170  [57664/60000]\n",
            "Test Error: \n",
            " Accuracy: 57.8%, Avg loss: 2.031082 \n",
            "\n",
            "Epoch 5\n",
            "-------------------------------\n",
            "loss: 2.055273  [   64/60000]\n",
            "loss: 2.011157  [ 6464/60000]\n",
            "loss: 2.002887  [12864/60000]\n",
            "loss: 1.918187  [19264/60000]\n",
            "loss: 1.958809  [25664/60000]\n",
            "loss: 1.932841  [32064/60000]\n",
            "loss: 1.860832  [38464/60000]\n",
            "loss: 1.988833  [44864/60000]\n",
            "loss: 1.882064  [51264/60000]\n",
            "loss: 1.779121  [57664/60000]\n",
            "Test Error: \n",
            " Accuracy: 62.3%, Avg loss: 1.827817 \n",
            "\n",
            "Epoch 6\n",
            "-------------------------------\n",
            "loss: 1.859758  [   64/60000]\n",
            "loss: 1.791718  [ 6464/60000]\n",
            "loss: 1.796483  [12864/60000]\n",
            "loss: 1.666303  [19264/60000]\n",
            "loss: 1.724140  [25664/60000]\n",
            "loss: 1.693984  [32064/60000]\n",
            "loss: 1.598162  [38464/60000]\n",
            "loss: 1.762067  [44864/60000]\n",
            "loss: 1.635282  [51264/60000]\n",
            "loss: 1.497081  [57664/60000]\n",
            "Test Error: \n",
            " Accuracy: 64.4%, Avg loss: 1.552824 \n",
            "\n",
            "Epoch 7\n",
            "-------------------------------\n",
            "loss: 1.595415  [   64/60000]\n",
            "loss: 1.510105  [ 6464/60000]\n",
            "loss: 1.534733  [12864/60000]\n",
            "loss: 1.370097  [19264/60000]\n",
            "loss: 1.430721  [25664/60000]\n",
            "loss: 1.408489  [32064/60000]\n",
            "loss: 1.315360  [38464/60000]\n",
            "loss: 1.496074  [44864/60000]\n",
            "loss: 1.371527  [51264/60000]\n",
            "loss: 1.235555  [57664/60000]\n",
            "Test Error: \n",
            " Accuracy: 69.7%, Avg loss: 1.280159 \n",
            "\n",
            "Epoch 8\n",
            "-------------------------------\n",
            "loss: 1.339410  [   64/60000]\n",
            "loss: 1.245252  [ 6464/60000]\n",
            "loss: 1.284520  [12864/60000]\n",
            "loss: 1.123105  [19264/60000]\n",
            "loss: 1.167035  [25664/60000]\n",
            "loss: 1.146499  [32064/60000]\n",
            "loss: 1.080399  [38464/60000]\n",
            "loss: 1.260063  [44864/60000]\n",
            "loss: 1.153386  [51264/60000]\n",
            "loss: 1.047066  [57664/60000]\n",
            "Test Error: \n",
            " Accuracy: 75.9%, Avg loss: 1.069588 \n",
            "\n",
            "Epoch 9\n",
            "-------------------------------\n",
            "loss: 1.146085  [   64/60000]\n",
            "loss: 1.043499  [ 6464/60000]\n",
            "loss: 1.090230  [12864/60000]\n",
            "loss: 0.947682  [19264/60000]\n",
            "loss: 0.975875  [25664/60000]\n",
            "loss: 0.948808  [32064/60000]\n",
            "loss: 0.907856  [38464/60000]\n",
            "loss: 1.079837  [44864/60000]\n",
            "loss: 0.990558  [51264/60000]\n",
            "loss: 0.916271  [57664/60000]\n",
            "Test Error: \n",
            " Accuracy: 79.0%, Avg loss: 0.918626 \n",
            "\n",
            "Epoch 10\n",
            "-------------------------------\n",
            "loss: 1.006761  [   64/60000]\n",
            "loss: 0.897280  [ 6464/60000]\n",
            "loss: 0.945194  [12864/60000]\n",
            "loss: 0.821869  [19264/60000]\n",
            "loss: 0.838872  [25664/60000]\n",
            "loss: 0.806795  [32064/60000]\n",
            "loss: 0.780211  [38464/60000]\n",
            "loss: 0.945750  [44864/60000]\n",
            "loss: 0.869647  [51264/60000]\n",
            "loss: 0.822955  [57664/60000]\n",
            "Test Error: \n",
            " Accuracy: 80.9%, Avg loss: 0.808000 \n",
            "\n",
            "Epoch 11\n",
            "-------------------------------\n",
            "loss: 0.902146  [   64/60000]\n",
            "loss: 0.787886  [ 6464/60000]\n",
            "loss: 0.832740  [12864/60000]\n",
            "loss: 0.729836  [19264/60000]\n",
            "loss: 0.735641  [25664/60000]\n",
            "loss: 0.704365  [32064/60000]\n",
            "loss: 0.682526  [38464/60000]\n",
            "loss: 0.844043  [44864/60000]\n",
            "loss: 0.778492  [51264/60000]\n",
            "loss: 0.754614  [57664/60000]\n",
            "Test Error: \n",
            " Accuracy: 82.4%, Avg loss: 0.724571 \n",
            "\n",
            "Epoch 12\n",
            "-------------------------------\n",
            "loss: 0.820800  [   64/60000]\n",
            "loss: 0.702720  [ 6464/60000]\n",
            "loss: 0.742921  [12864/60000]\n",
            "loss: 0.661554  [19264/60000]\n",
            "loss: 0.654718  [25664/60000]\n",
            "loss: 0.629850  [32064/60000]\n",
            "loss: 0.605688  [38464/60000]\n",
            "loss: 0.766248  [44864/60000]\n",
            "loss: 0.708246  [51264/60000]\n",
            "loss: 0.703392  [57664/60000]\n",
            "Test Error: \n",
            " Accuracy: 83.5%, Avg loss: 0.660356 \n",
            "\n",
            "Epoch 13\n",
            "-------------------------------\n",
            "loss: 0.756261  [   64/60000]\n",
            "loss: 0.634748  [ 6464/60000]\n",
            "loss: 0.670483  [12864/60000]\n",
            "loss: 0.609929  [19264/60000]\n",
            "loss: 0.590753  [25664/60000]\n",
            "loss: 0.575023  [32064/60000]\n",
            "loss: 0.544494  [38464/60000]\n",
            "loss: 0.706253  [44864/60000]\n",
            "loss: 0.653652  [51264/60000]\n",
            "loss: 0.664565  [57664/60000]\n",
            "Test Error: \n",
            " Accuracy: 84.4%, Avg loss: 0.610136 \n",
            "\n",
            "Epoch 14\n",
            "-------------------------------\n",
            "loss: 0.703849  [   64/60000]\n",
            "loss: 0.579354  [ 6464/60000]\n",
            "loss: 0.611621  [12864/60000]\n",
            "loss: 0.570279  [19264/60000]\n",
            "loss: 0.539774  [25664/60000]\n",
            "loss: 0.534461  [32064/60000]\n",
            "loss: 0.495659  [38464/60000]\n",
            "loss: 0.659297  [44864/60000]\n",
            "loss: 0.610525  [51264/60000]\n",
            "loss: 0.634291  [57664/60000]\n",
            "Test Error: \n",
            " Accuracy: 85.2%, Avg loss: 0.570242 \n",
            "\n",
            "Epoch 15\n",
            "-------------------------------\n",
            "loss: 0.660302  [   64/60000]\n",
            "loss: 0.533738  [ 6464/60000]\n",
            "loss: 0.563193  [12864/60000]\n",
            "loss: 0.539200  [19264/60000]\n",
            "loss: 0.498800  [25664/60000]\n",
            "loss: 0.503935  [32064/60000]\n",
            "loss: 0.456515  [38464/60000]\n",
            "loss: 0.622041  [44864/60000]\n",
            "loss: 0.576021  [51264/60000]\n",
            "loss: 0.610325  [57664/60000]\n",
            "Test Error: \n",
            " Accuracy: 85.8%, Avg loss: 0.538055 \n",
            "\n",
            "Done!\n"
          ]
        }
      ]
    },
    {
      "cell_type": "markdown",
      "source": [
        "## Save Model"
      ],
      "metadata": {
        "id": "EltXgjEdaqa5"
      }
    },
    {
      "cell_type": "code",
      "source": [
        "torch.save(model.state_dict(), \"mnist_model.pth\")\n",
        "print(\"Saved PyTorch Model State to model.pth\")"
      ],
      "metadata": {
        "id": "Cs4yB_zztIGb",
        "colab": {
          "base_uri": "https://localhost:8080/"
        },
        "outputId": "0cdad9a5-72d8-44df-bf2b-c331346f7989"
      },
      "execution_count": 226,
      "outputs": [
        {
          "output_type": "stream",
          "name": "stdout",
          "text": [
            "Saved PyTorch Model State to model.pth\n"
          ]
        }
      ]
    },
    {
      "cell_type": "markdown",
      "source": [
        "## Load Model"
      ],
      "metadata": {
        "id": "ci4njgcKasn_"
      }
    },
    {
      "cell_type": "code",
      "source": [
        "model = NeuralNetwork().to(device)\n",
        "model.load_state_dict(torch.load(\"mnist_model.pth\"))"
      ],
      "metadata": {
        "id": "zamJsKPbtOuJ",
        "colab": {
          "base_uri": "https://localhost:8080/"
        },
        "outputId": "66a9a2be-226a-418a-cf22-8db919cc55a7"
      },
      "execution_count": 227,
      "outputs": [
        {
          "output_type": "execute_result",
          "data": {
            "text/plain": [
              "<All keys matched successfully>"
            ]
          },
          "metadata": {},
          "execution_count": 227
        }
      ]
    },
    {
      "cell_type": "markdown",
      "source": [
        "## Predict Data"
      ],
      "metadata": {
        "id": "nqaT11z3au9O"
      }
    },
    {
      "cell_type": "markdown",
      "source": [
        "### Use Test Data"
      ],
      "metadata": {
        "id": "Vc_Jdr799w0k"
      }
    },
    {
      "cell_type": "code",
      "source": [
        "sample = next(iter(test_dataloader))\n",
        "img, label = sample\n",
        "\n",
        "index = 4\n",
        "actual_number = label[index].numpy()\n",
        "\n",
        "model.eval()\n",
        "with torch.no_grad():\n",
        "    pred = model(img[index])\n",
        "    prediction = torch.max(pred, 1)[1].data.numpy().squeeze()\n",
        "    print(f'Predicted: \"{prediction}\"')\n",
        "\n",
        "    image = img[index].squeeze(0)\n",
        "    plt.imshow(image, cmap='gray')"
      ],
      "metadata": {
        "colab": {
          "base_uri": "https://localhost:8080/",
          "height": 448
        },
        "id": "5E3sIWSTjMy3",
        "outputId": "7586cd51-27be-4491-fc32-e3fef289aca0"
      },
      "execution_count": 228,
      "outputs": [
        {
          "output_type": "stream",
          "name": "stdout",
          "text": [
            "Predicted: \"9\"\n"
          ]
        },
        {
          "output_type": "display_data",
          "data": {
            "text/plain": [
              "<Figure size 640x480 with 1 Axes>"
            ],
            "image/png": "[encoded data removed]"
          },
          "metadata": {}
        }
      ]
    },
    {
      "cell_type": "markdown",
      "source": [
        "### Use Own Digit"
      ],
      "metadata": {
        "id": "7qY6mCfb93u_"
      }
    },
    {
      "cell_type": "code",
      "source": [
        "def load_image(file):\n",
        "  image = cv2.imread(file, cv2.IMREAD_GRAYSCALE)\n",
        "\n",
        "  img_resized = cv2.resize(image, (28, 28), interpolation=cv2.INTER_LINEAR)\n",
        "  img_resized = cv2.bitwise_not(img_resized)\n",
        "\n",
        "  img_resized = TF.to_tensor(img_resized)\n",
        "  return img_resized"
      ],
      "metadata": {
        "id": "PsPuTJPlozat"
      },
      "execution_count": 229,
      "outputs": []
    },
    {
      "cell_type": "code",
      "source": [
        "image = load_image(r'/content/sample8.png')\n",
        "\n",
        "model.eval()\n",
        "with torch.no_grad():\n",
        "    pred = model(image)\n",
        "    prediction = torch.max(pred, 1)[1].data.numpy().squeeze()\n",
        "    print(f'Predicted: \"{prediction}\"')\n",
        "\n",
        "    image = image.squeeze(0)\n",
        "    plt.imshow(image, cmap='gray')"
      ],
      "metadata": {
        "id": "sm2mBHhhtSyg",
        "colab": {
          "base_uri": "https://localhost:8080/",
          "height": 448
        },
        "outputId": "d01d9229-a604-4073-dbe2-a79da95a442b"
      },
      "execution_count": 230,
      "outputs": [
        {
          "output_type": "stream",
          "name": "stdout",
          "text": [
            "Predicted: \"8\"\n"
          ]
        },
        {
          "output_type": "display_data",
          "data": {
            "text/plain": [
              "<Figure size 640x480 with 1 Axes>"
            ],
            "image/png": "[encoded data removed]"
          },
          "metadata": {}
        }
      ]
    }
  ]
}